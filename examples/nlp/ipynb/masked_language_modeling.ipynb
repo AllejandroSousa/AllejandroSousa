{
  "cells": [
    {
      "cell_type": "markdown",
      "metadata": {
        "id": "view-in-github",
        "colab_type": "text"
      },
      "source": [
        "<a href=\"https://colab.research.google.com/github/AllejandroSousa/AllejandroSousa/blob/main/examples/nlp/ipynb/masked_language_modeling.ipynb\" target=\"_parent\"><img src=\"https://colab.research.google.com/assets/colab-badge.svg\" alt=\"Open In Colab\"/></a>"
      ]
    },
    {
      "cell_type": "markdown",
      "metadata": {
        "id": "-eGuloiGIF1q"
      },
      "source": [
        "# End-to-end Masked Language Modeling with BERT\n",
        "\n",
        "**Team:** [Allejandro Sousa](https://github.com/AllejandroSousa), [José Samuel](https://github.com/Samuel-IA7), [Vinícius Germano]()<br>\n",
        "**Date created:** 2025/04/03<br>\n",
        "**Last modified:** 2025/04/03<br>\n",
        "**Description:** \"Implement a Masked Language Model (MLM) using BERT and fine-tune it on the Stack Overflow Questions/Answers dataset. Additionally, implement a Markov chain for the same problem and compare the results.\""
      ]
    },
    {
      "cell_type": "markdown",
      "metadata": {
        "id": "C3uB0kYZIF1s"
      },
      "source": [
        "## Introduction\n",
        "\n",
        "Masked Language Modeling is a fill-in-the-blank task,\n",
        "where a model uses the context words surrounding a mask token to try to predict what the\n",
        "masked word should be.\n",
        "\n",
        "For an input that contains one or more mask tokens,\n",
        "the model will generate the most likely substitution for each.\n",
        "\n",
        "Example:\n",
        "\n",
        "- Input: \"SyntaxError: Unexpected [mask].\"\n",
        "- Output: \"SyntaxError: Unexpected token.\"\n",
        "\n",
        "Masked language modeling is a great way to train a language\n",
        "model in a self-supervised setting (without human-annotated labels).\n",
        "Such a model can then be fine-tuned to accomplish various supervised\n",
        "NLP tasks.\n",
        "\n",
        "This example teaches you how to build a BERT model from scratch,\n",
        "train it with the masked language modeling task,\n",
        "and then fine-tune this model on a sentiment classification task.\n",
        "Additionally, we implement a Markov Chain-based approach to perform the same masked language modeling task and subsequent sentiment classification, allowing us to compare the results of these two distinct methods.\n",
        "\n",
        "We will use the Keras `TextVectorization` and `MultiHeadAttention` layers\n",
        "to create a BERT Transformer-Encoder network architecture, while the Markov Chain model leverages probabilistic transitions between words to predict masked tokens and generate features for classification."
      ]
    },
    {
      "cell_type": "code",
      "execution_count": null,
      "metadata": {
        "id": "qXMeVLr1IF1t"
      },
      "outputs": [],
      "source": [
        "import os\n",
        "\n",
        "os.environ[\"KERAS_BACKEND\"] = \"torch\"  # or jax, or tensorflow\n",
        "\n",
        "import keras_hub\n",
        "\n",
        "import keras\n",
        "from keras import layers\n",
        "from keras.layers import TextVectorization\n",
        "\n",
        "from dataclasses import dataclass\n",
        "import pandas as pd\n",
        "import numpy as np\n",
        "import glob\n",
        "import re\n",
        "from pprint import pprint"
      ]
    },
    {
      "cell_type": "markdown",
      "metadata": {
        "id": "7nYeiBrnIF1t"
      },
      "source": [
        "## Set-up Configuration"
      ]
    },
    {
      "cell_type": "code",
      "execution_count": null,
      "metadata": {
        "id": "SEWWu9wJIF1u"
      },
      "outputs": [],
      "source": [
        "\n",
        "@dataclass\n",
        "class Config:\n",
        "    MAX_LEN = 256\n",
        "    BATCH_SIZE = 32\n",
        "    LR = 0.001\n",
        "    VOCAB_SIZE = 30000\n",
        "    EMBED_DIM = 128\n",
        "    NUM_HEAD = 8  # used in bert model\n",
        "    FF_DIM = 128  # used in bert model\n",
        "    NUM_LAYERS = 1\n",
        "\n",
        "\n",
        "config = Config()"
      ]
    },
    {
      "cell_type": "markdown",
      "metadata": {
        "id": "6yAQh6s4IF1u"
      },
      "source": [
        "## Load the Data\n",
        "\n",
        "First, we will download the Stack Overflow dataset and load it into a Pandas DataFrame.\n",
        "\n",
        "### Important: Kaggle API Setup\n",
        "\n",
        "If you haven't uploaded the `kaggle.json` file to your Colab environment, follow these steps:\n",
        "\n",
        "1. Go to [Kaggle](https://www.kaggle.com).\n",
        "2. Log in to your account (or create one if you don’t have one).\n",
        "3. Navigate to **Settings**.\n",
        "4. Locate the **API** section and click on **Create New Token**.\n",
        "5. A `kaggle.json` file will be downloaded.\n",
        "6. Upload this file to your Colab environment before running the code below.\n",
        "\n",
        "Once the `kaggle.json` file is uploaded, proceed with the code execution.\n"
      ]
    },
    {
      "cell_type": "code",
      "source": [
        "!pip install -q kaggle\n",
        "\n",
        "# Configurar o arquivo kaggle.json (após upload manual)\n",
        "!mkdir -p ~/.kaggle\n",
        "!mv kaggle.json ~/.kaggle/\n",
        "!chmod 600 ~/.kaggle/kaggle.json\n",
        "\n",
        "# Baixar o dataset\n",
        "!kaggle datasets download -d stackoverflow/stacksample\n",
        "\n",
        "# Descompactar\n",
        "!unzip stacksample.zip"
      ],
      "metadata": {
        "id": "BF5yrMx26IGR"
      },
      "execution_count": null,
      "outputs": []
    },
    {
      "cell_type": "code",
      "source": [
        "from sklearn.model_selection import train_test_split\n",
        "\n",
        "# Carregar o dataset (assumindo que você baixou 'Questions.csv' do Kaggle)\n",
        "df = pd.read_csv(\"Questions.csv\", encoding='latin-1')\n",
        "\n",
        "# Filtrar para 100.000 exemplos e criar rótulos binários\n",
        "df = df.sample(n=100, random_state=42)  # Reduzir para 100.000\n",
        "df[\"sentiment\"] = df[\"Score\"].apply(lambda x: 1 if x >= 1 else 0)  # 1 = positivo, 0 = negativo\n",
        "df[\"review\"] = df[\"Title\"] + \" \" + df[\"Body\"]  # Combinar título e corpo como texto principal\n",
        "\n",
        "# Dividir em treino e teste (50/50 como o IMDB)\n",
        "train_df, test_df = train_test_split(df, test_size=0.5, random_state=42)\n",
        "all_data = pd.concat([train_df, test_df], ignore_index=True)\n",
        "\n",
        "# Verificar o tamanho\n",
        "print(f\"Treino: {len(train_df)}, Teste: {len(test_df)}\")"
      ],
      "metadata": {
        "id": "ypBefeET6QBB",
        "outputId": "0c3ba7a4-a18f-47d1-d25a-91ad4667da04",
        "colab": {
          "base_uri": "https://localhost:8080/"
        }
      },
      "execution_count": null,
      "outputs": [
        {
          "output_type": "stream",
          "name": "stdout",
          "text": [
            "Treino: 50000, Teste: 50000\n"
          ]
        }
      ]
    },
    {
      "cell_type": "markdown",
      "metadata": {
        "id": "j28t9YhtIF1v"
      },
      "source": [
        "## Dataset preparation\n",
        "\n",
        "We will use the `TextVectorization` layer to vectorize the text into integer token ids.\n",
        "It transforms a batch of strings into either\n",
        "a sequence of token indices (one sample = 1D array of integer token indices, in order)\n",
        "or a dense representation (one sample = 1D array of float values encoding an unordered set of tokens).\n",
        "\n",
        "Below, we define 3 preprocessing functions.\n",
        "\n",
        "1.  The `get_vectorize_layer` function builds the `TextVectorization` layer.\n",
        "2.  The `encode` function encodes raw text into integer token ids.\n",
        "3.  The `get_masked_input_and_labels` function will mask input token ids.\n",
        "It masks 15% of all input tokens in each sequence at random."
      ]
    },
    {
      "cell_type": "code",
      "execution_count": null,
      "metadata": {
        "id": "h6rqRj5mIF1v"
      },
      "outputs": [],
      "source": [
        "# For data pre-processing and tf.data.Dataset\n",
        "import tensorflow as tf\n",
        "\n",
        "\n",
        "def custom_standardization(input_data):\n",
        "    lowercase = tf.strings.lower(input_data)\n",
        "    stripped_html = tf.strings.regex_replace(lowercase, \"<br />\", \" \")\n",
        "    return tf.strings.regex_replace(\n",
        "        stripped_html, \"[%s]\" % re.escape(\"!#$%&'()*+,-./:;<=>?@\\^_`{|}~\"), \"\"\n",
        "    )\n",
        "\n",
        "\n",
        "def get_vectorize_layer(texts, vocab_size, max_seq, special_tokens=[\"[MASK]\"]):\n",
        "    \"\"\"Build Text vectorization layer\n",
        "\n",
        "    Args:\n",
        "      texts (list): List of string i.e input texts\n",
        "      vocab_size (int): vocab size\n",
        "      max_seq (int): Maximum sequence length.\n",
        "      special_tokens (list, optional): List of special tokens. Defaults to ['[MASK]'].\n",
        "\n",
        "    Returns:\n",
        "        layers.Layer: Return TextVectorization Keras Layer\n",
        "    \"\"\"\n",
        "    vectorize_layer = TextVectorization(\n",
        "        max_tokens=vocab_size,\n",
        "        output_mode=\"int\",\n",
        "        standardize=custom_standardization,\n",
        "        output_sequence_length=max_seq,\n",
        "    )\n",
        "    vectorize_layer.adapt(texts)\n",
        "\n",
        "    # Insert mask token in vocabulary\n",
        "    vocab = vectorize_layer.get_vocabulary()\n",
        "    vocab = vocab[2 : vocab_size - len(special_tokens)] + [\"[mask]\"]\n",
        "    vectorize_layer.set_vocabulary(vocab)\n",
        "    return vectorize_layer\n",
        "\n",
        "\n",
        "vectorize_layer = get_vectorize_layer(\n",
        "    all_data.review.values.tolist(),\n",
        "    config.VOCAB_SIZE,\n",
        "    config.MAX_LEN,\n",
        "    special_tokens=[\"[mask]\"],\n",
        ")\n",
        "\n",
        "# Get mask token id for masked language model\n",
        "mask_token_id = vectorize_layer([\"[mask]\"]).cpu().numpy()[0][0]\n",
        "\n",
        "\n",
        "def encode(texts):\n",
        "    encoded_texts = vectorize_layer(texts)\n",
        "    return encoded_texts.cpu().numpy()\n",
        "\n",
        "\n",
        "def get_masked_input_and_labels(encoded_texts):\n",
        "    # 15% BERT masking\n",
        "    inp_mask = np.random.rand(*encoded_texts.shape) < 0.15\n",
        "    # Do not mask special tokens\n",
        "    inp_mask[encoded_texts <= 2] = False\n",
        "    # Set targets to -1 by default, it means ignore\n",
        "    labels = -1 * np.ones(encoded_texts.shape, dtype=int)\n",
        "    # Set labels for masked tokens\n",
        "    labels[inp_mask] = encoded_texts[inp_mask]\n",
        "\n",
        "    # Prepare input\n",
        "    encoded_texts_masked = np.copy(encoded_texts)\n",
        "    # Set input to [MASK] which is the last token for the 90% of tokens\n",
        "    # This means leaving 10% unchanged\n",
        "    inp_mask_2mask = inp_mask & (np.random.rand(*encoded_texts.shape) < 0.90)\n",
        "    encoded_texts_masked[inp_mask_2mask] = (\n",
        "        mask_token_id  # mask token is the last in the dict\n",
        "    )\n",
        "\n",
        "    # Set 10% to a random token\n",
        "    inp_mask_2random = inp_mask_2mask & (np.random.rand(*encoded_texts.shape) < 1 / 9)\n",
        "    encoded_texts_masked[inp_mask_2random] = np.random.randint(\n",
        "        3, mask_token_id, inp_mask_2random.sum()\n",
        "    )\n",
        "\n",
        "    # Prepare sample_weights to pass to .fit() method\n",
        "    sample_weights = np.ones(labels.shape)\n",
        "    sample_weights[labels == -1] = 0\n",
        "\n",
        "    # y_labels would be same as encoded_texts i.e input tokens\n",
        "    y_labels = np.copy(encoded_texts)\n",
        "\n",
        "    return encoded_texts_masked, y_labels, sample_weights\n",
        "\n",
        "\n",
        "# We have 25000 examples for training\n",
        "x_train = encode(train_df.review.values)  # encode reviews with vectorizer\n",
        "y_train = train_df.sentiment.values\n",
        "train_classifier_ds = (\n",
        "    tf.data.Dataset.from_tensor_slices((x_train, y_train))\n",
        "    .shuffle(1000)\n",
        "    .batch(config.BATCH_SIZE)\n",
        ")\n",
        "\n",
        "# We have 25000 examples for testing\n",
        "x_test = encode(test_df.review.values)\n",
        "y_test = test_df.sentiment.values\n",
        "test_classifier_ds = tf.data.Dataset.from_tensor_slices((x_test, y_test)).batch(\n",
        "    config.BATCH_SIZE\n",
        ")\n",
        "\n",
        "# Dataset for end to end model input (will be used at the end)\n",
        "test_raw_classifier_ds = test_df\n",
        "\n",
        "# Prepare data for masked language model\n",
        "x_all_review = encode(all_data.review.values)\n",
        "x_masked_train, y_masked_labels, sample_weights = get_masked_input_and_labels(\n",
        "    x_all_review\n",
        ")\n",
        "\n",
        "mlm_ds = tf.data.Dataset.from_tensor_slices(\n",
        "    (x_masked_train, y_masked_labels, sample_weights)\n",
        ")\n",
        "mlm_ds = mlm_ds.shuffle(1000).batch(config.BATCH_SIZE)"
      ]
    },
    {
      "cell_type": "markdown",
      "metadata": {
        "id": "3S4msCaxIF1v"
      },
      "source": [
        "## Create BERT model (Pretraining Model) for masked language modeling\n",
        "\n",
        "We will create a BERT-like pretraining model architecture\n",
        "using the `MultiHeadAttention` layer.\n",
        "It will take token ids as inputs (including masked tokens)\n",
        "and it will predict the correct ids for the masked input tokens."
      ]
    },
    {
      "cell_type": "code",
      "execution_count": null,
      "metadata": {
        "id": "8fCXsRzqIF1w",
        "outputId": "18894c40-fd76-47c0-9a01-e817491e2a91",
        "colab": {
          "base_uri": "https://localhost:8080/",
          "height": 721
        }
      },
      "outputs": [
        {
          "output_type": "display_data",
          "data": {
            "text/plain": [
              "\u001b[1mModel: \"masked_bert_model\"\u001b[0m\n"
            ],
            "text/html": [
              "<pre style=\"white-space:pre;overflow-x:auto;line-height:normal;font-family:Menlo,'DejaVu Sans Mono',consolas,'Courier New',monospace\"><span style=\"font-weight: bold\">Model: \"masked_bert_model\"</span>\n",
              "</pre>\n"
            ]
          },
          "metadata": {}
        },
        {
          "output_type": "display_data",
          "data": {
            "text/plain": [
              "┏━━━━━━━━━━━━━━━━━━━━━━━━━━━┳━━━━━━━━━━━━━━━━━━━━━━━━┳━━━━━━━━━━━━━━━━┳━━━━━━━━━━━━━━━━━━━━━━━━┓\n",
              "┃\u001b[1m \u001b[0m\u001b[1mLayer (type)             \u001b[0m\u001b[1m \u001b[0m┃\u001b[1m \u001b[0m\u001b[1mOutput Shape          \u001b[0m\u001b[1m \u001b[0m┃\u001b[1m \u001b[0m\u001b[1m       Param #\u001b[0m\u001b[1m \u001b[0m┃\u001b[1m \u001b[0m\u001b[1mConnected to          \u001b[0m\u001b[1m \u001b[0m┃\n",
              "┡━━━━━━━━━━━━━━━━━━━━━━━━━━━╇━━━━━━━━━━━━━━━━━━━━━━━━╇━━━━━━━━━━━━━━━━╇━━━━━━━━━━━━━━━━━━━━━━━━┩\n",
              "│ input_layer (\u001b[38;5;33mInputLayer\u001b[0m)  │ (\u001b[38;5;45mNone\u001b[0m, \u001b[38;5;34m256\u001b[0m)            │              \u001b[38;5;34m0\u001b[0m │ -                      │\n",
              "├───────────────────────────┼────────────────────────┼────────────────┼────────────────────────┤\n",
              "│ word_embedding            │ (\u001b[38;5;45mNone\u001b[0m, \u001b[38;5;34m256\u001b[0m, \u001b[38;5;34m128\u001b[0m)       │      \u001b[38;5;34m3,840,000\u001b[0m │ input_layer[\u001b[38;5;34m0\u001b[0m][\u001b[38;5;34m0\u001b[0m]      │\n",
              "│ (\u001b[38;5;33mEmbedding\u001b[0m)               │                        │                │                        │\n",
              "├───────────────────────────┼────────────────────────┼────────────────┼────────────────────────┤\n",
              "│ position_embedding        │ (\u001b[38;5;45mNone\u001b[0m, \u001b[38;5;34m256\u001b[0m, \u001b[38;5;34m128\u001b[0m)       │         \u001b[38;5;34m32,768\u001b[0m │ word_embedding[\u001b[38;5;34m0\u001b[0m][\u001b[38;5;34m0\u001b[0m]   │\n",
              "│ (\u001b[38;5;33mPositionEmbedding\u001b[0m)       │                        │                │                        │\n",
              "├───────────────────────────┼────────────────────────┼────────────────┼────────────────────────┤\n",
              "│ add (\u001b[38;5;33mAdd\u001b[0m)                 │ (\u001b[38;5;45mNone\u001b[0m, \u001b[38;5;34m256\u001b[0m, \u001b[38;5;34m128\u001b[0m)       │              \u001b[38;5;34m0\u001b[0m │ word_embedding[\u001b[38;5;34m0\u001b[0m][\u001b[38;5;34m0\u001b[0m],  │\n",
              "│                           │                        │                │ position_embedding[\u001b[38;5;34m0\u001b[0m]… │\n",
              "├───────────────────────────┼────────────────────────┼────────────────┼────────────────────────┤\n",
              "│ encoder_0_multiheadatten… │ (\u001b[38;5;45mNone\u001b[0m, \u001b[38;5;34m256\u001b[0m, \u001b[38;5;34m128\u001b[0m)       │         \u001b[38;5;34m66,048\u001b[0m │ add[\u001b[38;5;34m0\u001b[0m][\u001b[38;5;34m0\u001b[0m], add[\u001b[38;5;34m0\u001b[0m][\u001b[38;5;34m0\u001b[0m],  │\n",
              "│ (\u001b[38;5;33mMultiHeadAttention\u001b[0m)      │                        │                │ add[\u001b[38;5;34m0\u001b[0m][\u001b[38;5;34m0\u001b[0m]              │\n",
              "├───────────────────────────┼────────────────────────┼────────────────┼────────────────────────┤\n",
              "│ encoder_0_att_dropout     │ (\u001b[38;5;45mNone\u001b[0m, \u001b[38;5;34m256\u001b[0m, \u001b[38;5;34m128\u001b[0m)       │              \u001b[38;5;34m0\u001b[0m │ encoder_0_multiheadat… │\n",
              "│ (\u001b[38;5;33mDropout\u001b[0m)                 │                        │                │                        │\n",
              "├───────────────────────────┼────────────────────────┼────────────────┼────────────────────────┤\n",
              "│ add_1 (\u001b[38;5;33mAdd\u001b[0m)               │ (\u001b[38;5;45mNone\u001b[0m, \u001b[38;5;34m256\u001b[0m, \u001b[38;5;34m128\u001b[0m)       │              \u001b[38;5;34m0\u001b[0m │ add[\u001b[38;5;34m0\u001b[0m][\u001b[38;5;34m0\u001b[0m],             │\n",
              "│                           │                        │                │ encoder_0_att_dropout… │\n",
              "├───────────────────────────┼────────────────────────┼────────────────┼────────────────────────┤\n",
              "│ encoder_0_att_layernorma… │ (\u001b[38;5;45mNone\u001b[0m, \u001b[38;5;34m256\u001b[0m, \u001b[38;5;34m128\u001b[0m)       │            \u001b[38;5;34m256\u001b[0m │ add_1[\u001b[38;5;34m0\u001b[0m][\u001b[38;5;34m0\u001b[0m]            │\n",
              "│ (\u001b[38;5;33mLayerNormalization\u001b[0m)      │                        │                │                        │\n",
              "├───────────────────────────┼────────────────────────┼────────────────┼────────────────────────┤\n",
              "│ encoder_0_ffn             │ (\u001b[38;5;45mNone\u001b[0m, \u001b[38;5;34m256\u001b[0m, \u001b[38;5;34m128\u001b[0m)       │         \u001b[38;5;34m33,024\u001b[0m │ encoder_0_att_layerno… │\n",
              "│ (\u001b[38;5;33mSequential\u001b[0m)              │                        │                │                        │\n",
              "├───────────────────────────┼────────────────────────┼────────────────┼────────────────────────┤\n",
              "│ encoder_0_ffn_dropout     │ (\u001b[38;5;45mNone\u001b[0m, \u001b[38;5;34m256\u001b[0m, \u001b[38;5;34m128\u001b[0m)       │              \u001b[38;5;34m0\u001b[0m │ encoder_0_ffn[\u001b[38;5;34m0\u001b[0m][\u001b[38;5;34m0\u001b[0m]    │\n",
              "│ (\u001b[38;5;33mDropout\u001b[0m)                 │                        │                │                        │\n",
              "├───────────────────────────┼────────────────────────┼────────────────┼────────────────────────┤\n",
              "│ add_2 (\u001b[38;5;33mAdd\u001b[0m)               │ (\u001b[38;5;45mNone\u001b[0m, \u001b[38;5;34m256\u001b[0m, \u001b[38;5;34m128\u001b[0m)       │              \u001b[38;5;34m0\u001b[0m │ encoder_0_att_layerno… │\n",
              "│                           │                        │                │ encoder_0_ffn_dropout… │\n",
              "├───────────────────────────┼────────────────────────┼────────────────┼────────────────────────┤\n",
              "│ encoder_0_ffn_layernorma… │ (\u001b[38;5;45mNone\u001b[0m, \u001b[38;5;34m256\u001b[0m, \u001b[38;5;34m128\u001b[0m)       │            \u001b[38;5;34m256\u001b[0m │ add_2[\u001b[38;5;34m0\u001b[0m][\u001b[38;5;34m0\u001b[0m]            │\n",
              "│ (\u001b[38;5;33mLayerNormalization\u001b[0m)      │                        │                │                        │\n",
              "├───────────────────────────┼────────────────────────┼────────────────┼────────────────────────┤\n",
              "│ mlm_cls (\u001b[38;5;33mDense\u001b[0m)           │ (\u001b[38;5;45mNone\u001b[0m, \u001b[38;5;34m256\u001b[0m, \u001b[38;5;34m30000\u001b[0m)     │      \u001b[38;5;34m3,870,000\u001b[0m │ encoder_0_ffn_layerno… │\n",
              "└───────────────────────────┴────────────────────────┴────────────────┴────────────────────────┘\n"
            ],
            "text/html": [
              "<pre style=\"white-space:pre;overflow-x:auto;line-height:normal;font-family:Menlo,'DejaVu Sans Mono',consolas,'Courier New',monospace\">┏━━━━━━━━━━━━━━━━━━━━━━━━━━━┳━━━━━━━━━━━━━━━━━━━━━━━━┳━━━━━━━━━━━━━━━━┳━━━━━━━━━━━━━━━━━━━━━━━━┓\n",
              "┃<span style=\"font-weight: bold\"> Layer (type)              </span>┃<span style=\"font-weight: bold\"> Output Shape           </span>┃<span style=\"font-weight: bold\">        Param # </span>┃<span style=\"font-weight: bold\"> Connected to           </span>┃\n",
              "┡━━━━━━━━━━━━━━━━━━━━━━━━━━━╇━━━━━━━━━━━━━━━━━━━━━━━━╇━━━━━━━━━━━━━━━━╇━━━━━━━━━━━━━━━━━━━━━━━━┩\n",
              "│ input_layer (<span style=\"color: #0087ff; text-decoration-color: #0087ff\">InputLayer</span>)  │ (<span style=\"color: #00d7ff; text-decoration-color: #00d7ff\">None</span>, <span style=\"color: #00af00; text-decoration-color: #00af00\">256</span>)            │              <span style=\"color: #00af00; text-decoration-color: #00af00\">0</span> │ -                      │\n",
              "├───────────────────────────┼────────────────────────┼────────────────┼────────────────────────┤\n",
              "│ word_embedding            │ (<span style=\"color: #00d7ff; text-decoration-color: #00d7ff\">None</span>, <span style=\"color: #00af00; text-decoration-color: #00af00\">256</span>, <span style=\"color: #00af00; text-decoration-color: #00af00\">128</span>)       │      <span style=\"color: #00af00; text-decoration-color: #00af00\">3,840,000</span> │ input_layer[<span style=\"color: #00af00; text-decoration-color: #00af00\">0</span>][<span style=\"color: #00af00; text-decoration-color: #00af00\">0</span>]      │\n",
              "│ (<span style=\"color: #0087ff; text-decoration-color: #0087ff\">Embedding</span>)               │                        │                │                        │\n",
              "├───────────────────────────┼────────────────────────┼────────────────┼────────────────────────┤\n",
              "│ position_embedding        │ (<span style=\"color: #00d7ff; text-decoration-color: #00d7ff\">None</span>, <span style=\"color: #00af00; text-decoration-color: #00af00\">256</span>, <span style=\"color: #00af00; text-decoration-color: #00af00\">128</span>)       │         <span style=\"color: #00af00; text-decoration-color: #00af00\">32,768</span> │ word_embedding[<span style=\"color: #00af00; text-decoration-color: #00af00\">0</span>][<span style=\"color: #00af00; text-decoration-color: #00af00\">0</span>]   │\n",
              "│ (<span style=\"color: #0087ff; text-decoration-color: #0087ff\">PositionEmbedding</span>)       │                        │                │                        │\n",
              "├───────────────────────────┼────────────────────────┼────────────────┼────────────────────────┤\n",
              "│ add (<span style=\"color: #0087ff; text-decoration-color: #0087ff\">Add</span>)                 │ (<span style=\"color: #00d7ff; text-decoration-color: #00d7ff\">None</span>, <span style=\"color: #00af00; text-decoration-color: #00af00\">256</span>, <span style=\"color: #00af00; text-decoration-color: #00af00\">128</span>)       │              <span style=\"color: #00af00; text-decoration-color: #00af00\">0</span> │ word_embedding[<span style=\"color: #00af00; text-decoration-color: #00af00\">0</span>][<span style=\"color: #00af00; text-decoration-color: #00af00\">0</span>],  │\n",
              "│                           │                        │                │ position_embedding[<span style=\"color: #00af00; text-decoration-color: #00af00\">0</span>]… │\n",
              "├───────────────────────────┼────────────────────────┼────────────────┼────────────────────────┤\n",
              "│ encoder_0_multiheadatten… │ (<span style=\"color: #00d7ff; text-decoration-color: #00d7ff\">None</span>, <span style=\"color: #00af00; text-decoration-color: #00af00\">256</span>, <span style=\"color: #00af00; text-decoration-color: #00af00\">128</span>)       │         <span style=\"color: #00af00; text-decoration-color: #00af00\">66,048</span> │ add[<span style=\"color: #00af00; text-decoration-color: #00af00\">0</span>][<span style=\"color: #00af00; text-decoration-color: #00af00\">0</span>], add[<span style=\"color: #00af00; text-decoration-color: #00af00\">0</span>][<span style=\"color: #00af00; text-decoration-color: #00af00\">0</span>],  │\n",
              "│ (<span style=\"color: #0087ff; text-decoration-color: #0087ff\">MultiHeadAttention</span>)      │                        │                │ add[<span style=\"color: #00af00; text-decoration-color: #00af00\">0</span>][<span style=\"color: #00af00; text-decoration-color: #00af00\">0</span>]              │\n",
              "├───────────────────────────┼────────────────────────┼────────────────┼────────────────────────┤\n",
              "│ encoder_0_att_dropout     │ (<span style=\"color: #00d7ff; text-decoration-color: #00d7ff\">None</span>, <span style=\"color: #00af00; text-decoration-color: #00af00\">256</span>, <span style=\"color: #00af00; text-decoration-color: #00af00\">128</span>)       │              <span style=\"color: #00af00; text-decoration-color: #00af00\">0</span> │ encoder_0_multiheadat… │\n",
              "│ (<span style=\"color: #0087ff; text-decoration-color: #0087ff\">Dropout</span>)                 │                        │                │                        │\n",
              "├───────────────────────────┼────────────────────────┼────────────────┼────────────────────────┤\n",
              "│ add_1 (<span style=\"color: #0087ff; text-decoration-color: #0087ff\">Add</span>)               │ (<span style=\"color: #00d7ff; text-decoration-color: #00d7ff\">None</span>, <span style=\"color: #00af00; text-decoration-color: #00af00\">256</span>, <span style=\"color: #00af00; text-decoration-color: #00af00\">128</span>)       │              <span style=\"color: #00af00; text-decoration-color: #00af00\">0</span> │ add[<span style=\"color: #00af00; text-decoration-color: #00af00\">0</span>][<span style=\"color: #00af00; text-decoration-color: #00af00\">0</span>],             │\n",
              "│                           │                        │                │ encoder_0_att_dropout… │\n",
              "├───────────────────────────┼────────────────────────┼────────────────┼────────────────────────┤\n",
              "│ encoder_0_att_layernorma… │ (<span style=\"color: #00d7ff; text-decoration-color: #00d7ff\">None</span>, <span style=\"color: #00af00; text-decoration-color: #00af00\">256</span>, <span style=\"color: #00af00; text-decoration-color: #00af00\">128</span>)       │            <span style=\"color: #00af00; text-decoration-color: #00af00\">256</span> │ add_1[<span style=\"color: #00af00; text-decoration-color: #00af00\">0</span>][<span style=\"color: #00af00; text-decoration-color: #00af00\">0</span>]            │\n",
              "│ (<span style=\"color: #0087ff; text-decoration-color: #0087ff\">LayerNormalization</span>)      │                        │                │                        │\n",
              "├───────────────────────────┼────────────────────────┼────────────────┼────────────────────────┤\n",
              "│ encoder_0_ffn             │ (<span style=\"color: #00d7ff; text-decoration-color: #00d7ff\">None</span>, <span style=\"color: #00af00; text-decoration-color: #00af00\">256</span>, <span style=\"color: #00af00; text-decoration-color: #00af00\">128</span>)       │         <span style=\"color: #00af00; text-decoration-color: #00af00\">33,024</span> │ encoder_0_att_layerno… │\n",
              "│ (<span style=\"color: #0087ff; text-decoration-color: #0087ff\">Sequential</span>)              │                        │                │                        │\n",
              "├───────────────────────────┼────────────────────────┼────────────────┼────────────────────────┤\n",
              "│ encoder_0_ffn_dropout     │ (<span style=\"color: #00d7ff; text-decoration-color: #00d7ff\">None</span>, <span style=\"color: #00af00; text-decoration-color: #00af00\">256</span>, <span style=\"color: #00af00; text-decoration-color: #00af00\">128</span>)       │              <span style=\"color: #00af00; text-decoration-color: #00af00\">0</span> │ encoder_0_ffn[<span style=\"color: #00af00; text-decoration-color: #00af00\">0</span>][<span style=\"color: #00af00; text-decoration-color: #00af00\">0</span>]    │\n",
              "│ (<span style=\"color: #0087ff; text-decoration-color: #0087ff\">Dropout</span>)                 │                        │                │                        │\n",
              "├───────────────────────────┼────────────────────────┼────────────────┼────────────────────────┤\n",
              "│ add_2 (<span style=\"color: #0087ff; text-decoration-color: #0087ff\">Add</span>)               │ (<span style=\"color: #00d7ff; text-decoration-color: #00d7ff\">None</span>, <span style=\"color: #00af00; text-decoration-color: #00af00\">256</span>, <span style=\"color: #00af00; text-decoration-color: #00af00\">128</span>)       │              <span style=\"color: #00af00; text-decoration-color: #00af00\">0</span> │ encoder_0_att_layerno… │\n",
              "│                           │                        │                │ encoder_0_ffn_dropout… │\n",
              "├───────────────────────────┼────────────────────────┼────────────────┼────────────────────────┤\n",
              "│ encoder_0_ffn_layernorma… │ (<span style=\"color: #00d7ff; text-decoration-color: #00d7ff\">None</span>, <span style=\"color: #00af00; text-decoration-color: #00af00\">256</span>, <span style=\"color: #00af00; text-decoration-color: #00af00\">128</span>)       │            <span style=\"color: #00af00; text-decoration-color: #00af00\">256</span> │ add_2[<span style=\"color: #00af00; text-decoration-color: #00af00\">0</span>][<span style=\"color: #00af00; text-decoration-color: #00af00\">0</span>]            │\n",
              "│ (<span style=\"color: #0087ff; text-decoration-color: #0087ff\">LayerNormalization</span>)      │                        │                │                        │\n",
              "├───────────────────────────┼────────────────────────┼────────────────┼────────────────────────┤\n",
              "│ mlm_cls (<span style=\"color: #0087ff; text-decoration-color: #0087ff\">Dense</span>)           │ (<span style=\"color: #00d7ff; text-decoration-color: #00d7ff\">None</span>, <span style=\"color: #00af00; text-decoration-color: #00af00\">256</span>, <span style=\"color: #00af00; text-decoration-color: #00af00\">30000</span>)     │      <span style=\"color: #00af00; text-decoration-color: #00af00\">3,870,000</span> │ encoder_0_ffn_layerno… │\n",
              "└───────────────────────────┴────────────────────────┴────────────────┴────────────────────────┘\n",
              "</pre>\n"
            ]
          },
          "metadata": {}
        },
        {
          "output_type": "display_data",
          "data": {
            "text/plain": [
              "\u001b[1m Total params: \u001b[0m\u001b[38;5;34m7,842,352\u001b[0m (29.92 MB)\n"
            ],
            "text/html": [
              "<pre style=\"white-space:pre;overflow-x:auto;line-height:normal;font-family:Menlo,'DejaVu Sans Mono',consolas,'Courier New',monospace\"><span style=\"font-weight: bold\"> Total params: </span><span style=\"color: #00af00; text-decoration-color: #00af00\">7,842,352</span> (29.92 MB)\n",
              "</pre>\n"
            ]
          },
          "metadata": {}
        },
        {
          "output_type": "display_data",
          "data": {
            "text/plain": [
              "\u001b[1m Trainable params: \u001b[0m\u001b[38;5;34m7,842,352\u001b[0m (29.92 MB)\n"
            ],
            "text/html": [
              "<pre style=\"white-space:pre;overflow-x:auto;line-height:normal;font-family:Menlo,'DejaVu Sans Mono',consolas,'Courier New',monospace\"><span style=\"font-weight: bold\"> Trainable params: </span><span style=\"color: #00af00; text-decoration-color: #00af00\">7,842,352</span> (29.92 MB)\n",
              "</pre>\n"
            ]
          },
          "metadata": {}
        },
        {
          "output_type": "display_data",
          "data": {
            "text/plain": [
              "\u001b[1m Non-trainable params: \u001b[0m\u001b[38;5;34m0\u001b[0m (0.00 B)\n"
            ],
            "text/html": [
              "<pre style=\"white-space:pre;overflow-x:auto;line-height:normal;font-family:Menlo,'DejaVu Sans Mono',consolas,'Courier New',monospace\"><span style=\"font-weight: bold\"> Non-trainable params: </span><span style=\"color: #00af00; text-decoration-color: #00af00\">0</span> (0.00 B)\n",
              "</pre>\n"
            ]
          },
          "metadata": {}
        }
      ],
      "source": [
        "\n",
        "def bert_module(query, key, value, i):\n",
        "    # Multi headed self-attention\n",
        "    attention_output = layers.MultiHeadAttention(\n",
        "        num_heads=config.NUM_HEAD,\n",
        "        key_dim=config.EMBED_DIM // config.NUM_HEAD,\n",
        "        name=\"encoder_{}_multiheadattention\".format(i),\n",
        "    )(query, key, value)\n",
        "    attention_output = layers.Dropout(0.1, name=\"encoder_{}_att_dropout\".format(i))(\n",
        "        attention_output\n",
        "    )\n",
        "    attention_output = layers.LayerNormalization(\n",
        "        epsilon=1e-6, name=\"encoder_{}_att_layernormalization\".format(i)\n",
        "    )(query + attention_output)\n",
        "\n",
        "    # Feed-forward layer\n",
        "    ffn = keras.Sequential(\n",
        "        [\n",
        "            layers.Dense(config.FF_DIM, activation=\"relu\"),\n",
        "            layers.Dense(config.EMBED_DIM),\n",
        "        ],\n",
        "        name=\"encoder_{}_ffn\".format(i),\n",
        "    )\n",
        "    ffn_output = ffn(attention_output)\n",
        "    ffn_output = layers.Dropout(0.1, name=\"encoder_{}_ffn_dropout\".format(i))(\n",
        "        ffn_output\n",
        "    )\n",
        "    sequence_output = layers.LayerNormalization(\n",
        "        epsilon=1e-6, name=\"encoder_{}_ffn_layernormalization\".format(i)\n",
        "    )(attention_output + ffn_output)\n",
        "    return sequence_output\n",
        "\n",
        "\n",
        "loss_fn = keras.losses.SparseCategoricalCrossentropy(reduction=None)\n",
        "loss_tracker = keras.metrics.Mean(name=\"loss\")\n",
        "\n",
        "\n",
        "class MaskedLanguageModel(keras.Model):\n",
        "\n",
        "    def compute_loss(self, x=None, y=None, y_pred=None, sample_weight=None):\n",
        "\n",
        "        loss = loss_fn(y, y_pred, sample_weight)\n",
        "        loss_tracker.update_state(loss, sample_weight=sample_weight)\n",
        "        return keras.ops.sum(loss)\n",
        "\n",
        "    def compute_metrics(self, x, y, y_pred, sample_weight):\n",
        "\n",
        "        # Return a dict mapping metric names to current value\n",
        "        return {\"loss\": loss_tracker.result()}\n",
        "\n",
        "    @property\n",
        "    def metrics(self):\n",
        "        # We list our `Metric` objects here so that `reset_states()` can be\n",
        "        # called automatically at the start of each epoch\n",
        "        # or at the start of `evaluate()`.\n",
        "        # If you don't implement this property, you have to call\n",
        "        # `reset_states()` yourself at the time of your choosing.\n",
        "        return [loss_tracker]\n",
        "\n",
        "\n",
        "def create_masked_language_bert_model():\n",
        "    inputs = layers.Input((config.MAX_LEN,), dtype=\"int64\")\n",
        "\n",
        "    word_embeddings = layers.Embedding(\n",
        "        config.VOCAB_SIZE, config.EMBED_DIM, name=\"word_embedding\"\n",
        "    )(inputs)\n",
        "    position_embeddings = keras_hub.layers.PositionEmbedding(\n",
        "        sequence_length=config.MAX_LEN\n",
        "    )(word_embeddings)\n",
        "    embeddings = word_embeddings + position_embeddings\n",
        "\n",
        "    encoder_output = embeddings\n",
        "    for i in range(config.NUM_LAYERS):\n",
        "        encoder_output = bert_module(encoder_output, encoder_output, encoder_output, i)\n",
        "\n",
        "    mlm_output = layers.Dense(config.VOCAB_SIZE, name=\"mlm_cls\", activation=\"softmax\")(\n",
        "        encoder_output\n",
        "    )\n",
        "    mlm_model = MaskedLanguageModel(inputs, mlm_output, name=\"masked_bert_model\")\n",
        "\n",
        "    optimizer = keras.optimizers.Adam(learning_rate=config.LR)\n",
        "    mlm_model.compile(optimizer=optimizer)\n",
        "    return mlm_model\n",
        "\n",
        "\n",
        "id2token = dict(enumerate(vectorize_layer.get_vocabulary()))\n",
        "token2id = {y: x for x, y in id2token.items()}\n",
        "\n",
        "\n",
        "class MaskedTextGenerator(keras.callbacks.Callback):\n",
        "    def __init__(self, sample_tokens, top_k=5):\n",
        "        self.sample_tokens = sample_tokens\n",
        "        self.k = top_k\n",
        "\n",
        "    def decode(self, tokens):\n",
        "        return \" \".join([id2token[t] for t in tokens if t != 0])\n",
        "\n",
        "    def convert_ids_to_tokens(self, id):\n",
        "        return id2token[id]\n",
        "\n",
        "    def on_epoch_end(self, epoch, logs=None):\n",
        "        prediction = self.model.predict(self.sample_tokens)\n",
        "\n",
        "        masked_index = np.where(self.sample_tokens == mask_token_id)\n",
        "        masked_index = masked_index[1]\n",
        "        mask_prediction = prediction[0][masked_index]\n",
        "\n",
        "        top_indices = mask_prediction[0].argsort()[-self.k :][::-1]\n",
        "        values = mask_prediction[0][top_indices]\n",
        "\n",
        "        for i in range(len(top_indices)):\n",
        "            p = top_indices[i]\n",
        "            v = values[i]\n",
        "            tokens = np.copy(sample_tokens[0])\n",
        "            tokens[masked_index[0]] = p\n",
        "            result = {\n",
        "                \"input_text\": self.decode(sample_tokens[0].cpu().numpy()),\n",
        "                \"prediction\": self.decode(tokens),\n",
        "                \"probability\": v,\n",
        "                \"predicted mask token\": self.convert_ids_to_tokens(p),\n",
        "            }\n",
        "            pprint(result)\n",
        "\n",
        "\n",
        "sample_tokens = vectorize_layer([\"SyntaxError: Unexpected [mask]\"])\n",
        "generator_callback = MaskedTextGenerator(sample_tokens.cpu().numpy())\n",
        "\n",
        "bert_masked_model = create_masked_language_bert_model()\n",
        "bert_masked_model.summary()"
      ]
    },
    {
      "cell_type": "markdown",
      "metadata": {
        "id": "AuoDrtsFIF1w"
      },
      "source": [
        "## Train and Save"
      ]
    },
    {
      "cell_type": "code",
      "execution_count": null,
      "metadata": {
        "id": "LO76aubFIF1w",
        "outputId": "9091ae4b-6dc2-449e-b496-03d7cd833b7c",
        "colab": {
          "base_uri": "https://localhost:8080/"
        }
      },
      "outputs": [
        {
          "output_type": "stream",
          "name": "stdout",
          "text": [
            "Epoch 1/5\n",
            "\u001b[1m1/1\u001b[0m \u001b[32m━━━━━━━━━━━━━━━━━━━━\u001b[0m\u001b[37m\u001b[0m \u001b[1m0s\u001b[0m 9ms/step\n",
            "{'input_text': 'syntaxerror unexpected [mask]',\n",
            " 'predicted mask token': np.str_('in'),\n",
            " 'prediction': 'syntaxerror unexpected in',\n",
            " 'probability': np.float32(0.047566507)}\n",
            "{'input_text': 'syntaxerror unexpected [mask]',\n",
            " 'predicted mask token': np.str_('not'),\n",
            " 'prediction': 'syntaxerror unexpected not',\n",
            " 'probability': np.float32(0.034303784)}\n",
            "{'input_text': 'syntaxerror unexpected [mask]',\n",
            " 'predicted mask token': np.str_('error'),\n",
            " 'prediction': 'syntaxerror unexpected error',\n",
            " 'probability': np.float32(0.028641336)}\n",
            "{'input_text': 'syntaxerror unexpected [mask]',\n",
            " 'predicted mask token': np.str_('to'),\n",
            " 'prediction': 'syntaxerror unexpected to',\n",
            " 'probability': np.float32(0.025755713)}\n",
            "{'input_text': 'syntaxerror unexpected [mask]',\n",
            " 'predicted mask token': np.str_('i'),\n",
            " 'prediction': 'syntaxerror unexpected i',\n",
            " 'probability': np.float32(0.021608267)}\n",
            "\u001b[1m3125/3125\u001b[0m \u001b[32m━━━━━━━━━━━━━━━━━━━━\u001b[0m\u001b[37m\u001b[0m \u001b[1m940s\u001b[0m 300ms/step - loss: 7.0247\n",
            "Epoch 2/5\n",
            "\u001b[1m1/1\u001b[0m \u001b[32m━━━━━━━━━━━━━━━━━━━━\u001b[0m\u001b[37m\u001b[0m \u001b[1m0s\u001b[0m 9ms/step\n",
            "{'input_text': 'syntaxerror unexpected [mask]',\n",
            " 'predicted mask token': np.str_('error'),\n",
            " 'prediction': 'syntaxerror unexpected error',\n",
            " 'probability': np.float32(0.12391067)}\n",
            "{'input_text': 'syntaxerror unexpected [mask]',\n",
            " 'predicted mask token': np.str_('unexpected'),\n",
            " 'prediction': 'syntaxerror unexpected unexpected',\n",
            " 'probability': np.float32(0.11024276)}\n",
            "{'input_text': 'syntaxerror unexpected [mask]',\n",
            " 'predicted mask token': np.str_('not'),\n",
            " 'prediction': 'syntaxerror unexpected not',\n",
            " 'probability': np.float32(0.0447326)}\n",
            "{'input_text': 'syntaxerror unexpected [mask]',\n",
            " 'predicted mask token': np.str_('in'),\n",
            " 'prediction': 'syntaxerror unexpected in',\n",
            " 'probability': np.float32(0.034106776)}\n",
            "{'input_text': 'syntaxerror unexpected [mask]',\n",
            " 'predicted mask token': np.str_('syntax'),\n",
            " 'prediction': 'syntaxerror unexpected syntax',\n",
            " 'probability': np.float32(0.021735637)}\n",
            "\u001b[1m3125/3125\u001b[0m \u001b[32m━━━━━━━━━━━━━━━━━━━━\u001b[0m\u001b[37m\u001b[0m \u001b[1m938s\u001b[0m 300ms/step - loss: 5.9269\n",
            "Epoch 3/5\n",
            "\u001b[1m1/1\u001b[0m \u001b[32m━━━━━━━━━━━━━━━━━━━━\u001b[0m\u001b[37m\u001b[0m \u001b[1m0s\u001b[0m 13ms/step\n",
            "{'input_text': 'syntaxerror unexpected [mask]',\n",
            " 'predicted mask token': np.str_('error'),\n",
            " 'prediction': 'syntaxerror unexpected error',\n",
            " 'probability': np.float32(0.17699634)}\n",
            "{'input_text': 'syntaxerror unexpected [mask]',\n",
            " 'predicted mask token': np.str_('unexpected'),\n",
            " 'prediction': 'syntaxerror unexpected unexpected',\n",
            " 'probability': np.float32(0.057561625)}\n",
            "{'input_text': 'syntaxerror unexpected [mask]',\n",
            " 'predicted mask token': np.str_('syntax'),\n",
            " 'prediction': 'syntaxerror unexpected syntax',\n",
            " 'probability': np.float32(0.03862727)}\n",
            "{'input_text': 'syntaxerror unexpected [mask]',\n",
            " 'predicted mask token': np.str_('blockquote'),\n",
            " 'prediction': 'syntaxerror unexpected blockquote',\n",
            " 'probability': np.float32(0.011421155)}\n",
            "{'input_text': 'syntaxerror unexpected [mask]',\n",
            " 'predicted mask token': np.str_('errorp'),\n",
            " 'prediction': 'syntaxerror unexpected errorp',\n",
            " 'probability': np.float32(0.01008563)}\n",
            "\u001b[1m3125/3125\u001b[0m \u001b[32m━━━━━━━━━━━━━━━━━━━━\u001b[0m\u001b[37m\u001b[0m \u001b[1m938s\u001b[0m 300ms/step - loss: 5.2591\n",
            "Epoch 4/5\n",
            "\u001b[1m1/1\u001b[0m \u001b[32m━━━━━━━━━━━━━━━━━━━━\u001b[0m\u001b[37m\u001b[0m \u001b[1m0s\u001b[0m 9ms/step\n",
            "{'input_text': 'syntaxerror unexpected [mask]',\n",
            " 'predicted mask token': np.str_('error'),\n",
            " 'prediction': 'syntaxerror unexpected error',\n",
            " 'probability': np.float32(0.42183164)}\n",
            "{'input_text': 'syntaxerror unexpected [mask]',\n",
            " 'predicted mask token': np.str_('unexpected'),\n",
            " 'prediction': 'syntaxerror unexpected unexpected',\n",
            " 'probability': np.float32(0.06351752)}\n",
            "{'input_text': 'syntaxerror unexpected [mask]',\n",
            " 'predicted mask token': np.str_('syntax'),\n",
            " 'prediction': 'syntaxerror unexpected syntax',\n",
            " 'probability': np.float32(0.037004504)}\n",
            "{'input_text': 'syntaxerror unexpected [mask]',\n",
            " 'predicted mask token': np.str_('output'),\n",
            " 'prediction': 'syntaxerror unexpected output',\n",
            " 'probability': np.float32(0.011631754)}\n",
            "{'input_text': 'syntaxerror unexpected [mask]',\n",
            " 'predicted mask token': np.str_('invalid'),\n",
            " 'prediction': 'syntaxerror unexpected invalid',\n",
            " 'probability': np.float32(0.011589291)}\n",
            "\u001b[1m3125/3125\u001b[0m \u001b[32m━━━━━━━━━━━━━━━━━━━━\u001b[0m\u001b[37m\u001b[0m \u001b[1m936s\u001b[0m 300ms/step - loss: 4.5192\n",
            "Epoch 5/5\n",
            "\u001b[1m1/1\u001b[0m \u001b[32m━━━━━━━━━━━━━━━━━━━━\u001b[0m\u001b[37m\u001b[0m \u001b[1m0s\u001b[0m 13ms/step\n",
            "{'input_text': 'syntaxerror unexpected [mask]',\n",
            " 'predicted mask token': np.str_('error'),\n",
            " 'prediction': 'syntaxerror unexpected error',\n",
            " 'probability': np.float32(0.47014937)}\n",
            "{'input_text': 'syntaxerror unexpected [mask]',\n",
            " 'predicted mask token': np.str_('syntax'),\n",
            " 'prediction': 'syntaxerror unexpected syntax',\n",
            " 'probability': np.float32(0.048416812)}\n",
            "{'input_text': 'syntaxerror unexpected [mask]',\n",
            " 'predicted mask token': np.str_('unexpected'),\n",
            " 'prediction': 'syntaxerror unexpected unexpected',\n",
            " 'probability': np.float32(0.01900948)}\n",
            "{'input_text': 'syntaxerror unexpected [mask]',\n",
            " 'predicted mask token': np.str_('value'),\n",
            " 'prediction': 'syntaxerror unexpected value',\n",
            " 'probability': np.float32(0.01870371)}\n",
            "{'input_text': 'syntaxerror unexpected [mask]',\n",
            " 'predicted mask token': np.str_('values'),\n",
            " 'prediction': 'syntaxerror unexpected values',\n",
            " 'probability': np.float32(0.012260315)}\n",
            "\u001b[1m3125/3125\u001b[0m \u001b[32m━━━━━━━━━━━━━━━━━━━━\u001b[0m\u001b[37m\u001b[0m \u001b[1m935s\u001b[0m 299ms/step - loss: 4.0085\n"
          ]
        }
      ],
      "source": [
        "bert_masked_model.fit(mlm_ds, epochs=5, callbacks=[generator_callback])\n",
        "bert_masked_model.save(\"bert_mlm_stackoverflow.keras\")"
      ]
    },
    {
      "cell_type": "markdown",
      "metadata": {
        "id": "4rnBmQPFIF1w"
      },
      "source": [
        "## Fine-tune a sentiment classification model\n",
        "\n",
        "We will fine-tune our self-supervised model on a downstream task of sentiment classification.\n",
        "To do this, let's create a classifier by adding a pooling layer and a `Dense` layer on top of the\n",
        "pretrained BERT features."
      ]
    },
    {
      "cell_type": "code",
      "execution_count": null,
      "metadata": {
        "id": "CqKAc2iCIF1w",
        "outputId": "637b4ec3-de5e-4b0a-8f34-fffb37c4a1e0",
        "colab": {
          "base_uri": "https://localhost:8080/",
          "height": 706
        }
      },
      "outputs": [
        {
          "output_type": "display_data",
          "data": {
            "text/plain": [
              "\u001b[1mModel: \"classification\"\u001b[0m\n"
            ],
            "text/html": [
              "<pre style=\"white-space:pre;overflow-x:auto;line-height:normal;font-family:Menlo,'DejaVu Sans Mono',consolas,'Courier New',monospace\"><span style=\"font-weight: bold\">Model: \"classification\"</span>\n",
              "</pre>\n"
            ]
          },
          "metadata": {}
        },
        {
          "output_type": "display_data",
          "data": {
            "text/plain": [
              "┏━━━━━━━━━━━━━━━━━━━━━━━━━━━━━━━━━━━━━━┳━━━━━━━━━━━━━━━━━━━━━━━━━━━━━┳━━━━━━━━━━━━━━━━━┓\n",
              "┃\u001b[1m \u001b[0m\u001b[1mLayer (type)                        \u001b[0m\u001b[1m \u001b[0m┃\u001b[1m \u001b[0m\u001b[1mOutput Shape               \u001b[0m\u001b[1m \u001b[0m┃\u001b[1m \u001b[0m\u001b[1m        Param #\u001b[0m\u001b[1m \u001b[0m┃\n",
              "┡━━━━━━━━━━━━━━━━━━━━━━━━━━━━━━━━━━━━━━╇━━━━━━━━━━━━━━━━━━━━━━━━━━━━━╇━━━━━━━━━━━━━━━━━┩\n",
              "│ input_layer_2 (\u001b[38;5;33mInputLayer\u001b[0m)           │ (\u001b[38;5;45mNone\u001b[0m, \u001b[38;5;34m256\u001b[0m)                 │               \u001b[38;5;34m0\u001b[0m │\n",
              "├──────────────────────────────────────┼─────────────────────────────┼─────────────────┤\n",
              "│ functional_3 (\u001b[38;5;33mFunctional\u001b[0m)            │ (\u001b[38;5;45mNone\u001b[0m, \u001b[38;5;34m256\u001b[0m, \u001b[38;5;34m128\u001b[0m)            │       \u001b[38;5;34m3,972,352\u001b[0m │\n",
              "├──────────────────────────────────────┼─────────────────────────────┼─────────────────┤\n",
              "│ global_max_pooling1d                 │ (\u001b[38;5;45mNone\u001b[0m, \u001b[38;5;34m128\u001b[0m)                 │               \u001b[38;5;34m0\u001b[0m │\n",
              "│ (\u001b[38;5;33mGlobalMaxPooling1D\u001b[0m)                 │                             │                 │\n",
              "├──────────────────────────────────────┼─────────────────────────────┼─────────────────┤\n",
              "│ dense_2 (\u001b[38;5;33mDense\u001b[0m)                      │ (\u001b[38;5;45mNone\u001b[0m, \u001b[38;5;34m64\u001b[0m)                  │           \u001b[38;5;34m8,256\u001b[0m │\n",
              "├──────────────────────────────────────┼─────────────────────────────┼─────────────────┤\n",
              "│ dense_3 (\u001b[38;5;33mDense\u001b[0m)                      │ (\u001b[38;5;45mNone\u001b[0m, \u001b[38;5;34m1\u001b[0m)                   │              \u001b[38;5;34m65\u001b[0m │\n",
              "└──────────────────────────────────────┴─────────────────────────────┴─────────────────┘\n"
            ],
            "text/html": [
              "<pre style=\"white-space:pre;overflow-x:auto;line-height:normal;font-family:Menlo,'DejaVu Sans Mono',consolas,'Courier New',monospace\">┏━━━━━━━━━━━━━━━━━━━━━━━━━━━━━━━━━━━━━━┳━━━━━━━━━━━━━━━━━━━━━━━━━━━━━┳━━━━━━━━━━━━━━━━━┓\n",
              "┃<span style=\"font-weight: bold\"> Layer (type)                         </span>┃<span style=\"font-weight: bold\"> Output Shape                </span>┃<span style=\"font-weight: bold\">         Param # </span>┃\n",
              "┡━━━━━━━━━━━━━━━━━━━━━━━━━━━━━━━━━━━━━━╇━━━━━━━━━━━━━━━━━━━━━━━━━━━━━╇━━━━━━━━━━━━━━━━━┩\n",
              "│ input_layer_2 (<span style=\"color: #0087ff; text-decoration-color: #0087ff\">InputLayer</span>)           │ (<span style=\"color: #00d7ff; text-decoration-color: #00d7ff\">None</span>, <span style=\"color: #00af00; text-decoration-color: #00af00\">256</span>)                 │               <span style=\"color: #00af00; text-decoration-color: #00af00\">0</span> │\n",
              "├──────────────────────────────────────┼─────────────────────────────┼─────────────────┤\n",
              "│ functional_3 (<span style=\"color: #0087ff; text-decoration-color: #0087ff\">Functional</span>)            │ (<span style=\"color: #00d7ff; text-decoration-color: #00d7ff\">None</span>, <span style=\"color: #00af00; text-decoration-color: #00af00\">256</span>, <span style=\"color: #00af00; text-decoration-color: #00af00\">128</span>)            │       <span style=\"color: #00af00; text-decoration-color: #00af00\">3,972,352</span> │\n",
              "├──────────────────────────────────────┼─────────────────────────────┼─────────────────┤\n",
              "│ global_max_pooling1d                 │ (<span style=\"color: #00d7ff; text-decoration-color: #00d7ff\">None</span>, <span style=\"color: #00af00; text-decoration-color: #00af00\">128</span>)                 │               <span style=\"color: #00af00; text-decoration-color: #00af00\">0</span> │\n",
              "│ (<span style=\"color: #0087ff; text-decoration-color: #0087ff\">GlobalMaxPooling1D</span>)                 │                             │                 │\n",
              "├──────────────────────────────────────┼─────────────────────────────┼─────────────────┤\n",
              "│ dense_2 (<span style=\"color: #0087ff; text-decoration-color: #0087ff\">Dense</span>)                      │ (<span style=\"color: #00d7ff; text-decoration-color: #00d7ff\">None</span>, <span style=\"color: #00af00; text-decoration-color: #00af00\">64</span>)                  │           <span style=\"color: #00af00; text-decoration-color: #00af00\">8,256</span> │\n",
              "├──────────────────────────────────────┼─────────────────────────────┼─────────────────┤\n",
              "│ dense_3 (<span style=\"color: #0087ff; text-decoration-color: #0087ff\">Dense</span>)                      │ (<span style=\"color: #00d7ff; text-decoration-color: #00d7ff\">None</span>, <span style=\"color: #00af00; text-decoration-color: #00af00\">1</span>)                   │              <span style=\"color: #00af00; text-decoration-color: #00af00\">65</span> │\n",
              "└──────────────────────────────────────┴─────────────────────────────┴─────────────────┘\n",
              "</pre>\n"
            ]
          },
          "metadata": {}
        },
        {
          "output_type": "display_data",
          "data": {
            "text/plain": [
              "\u001b[1m Total params: \u001b[0m\u001b[38;5;34m3,980,673\u001b[0m (15.19 MB)\n"
            ],
            "text/html": [
              "<pre style=\"white-space:pre;overflow-x:auto;line-height:normal;font-family:Menlo,'DejaVu Sans Mono',consolas,'Courier New',monospace\"><span style=\"font-weight: bold\"> Total params: </span><span style=\"color: #00af00; text-decoration-color: #00af00\">3,980,673</span> (15.19 MB)\n",
              "</pre>\n"
            ]
          },
          "metadata": {}
        },
        {
          "output_type": "display_data",
          "data": {
            "text/plain": [
              "\u001b[1m Trainable params: \u001b[0m\u001b[38;5;34m8,321\u001b[0m (32.50 KB)\n"
            ],
            "text/html": [
              "<pre style=\"white-space:pre;overflow-x:auto;line-height:normal;font-family:Menlo,'DejaVu Sans Mono',consolas,'Courier New',monospace\"><span style=\"font-weight: bold\"> Trainable params: </span><span style=\"color: #00af00; text-decoration-color: #00af00\">8,321</span> (32.50 KB)\n",
              "</pre>\n"
            ]
          },
          "metadata": {}
        },
        {
          "output_type": "display_data",
          "data": {
            "text/plain": [
              "\u001b[1m Non-trainable params: \u001b[0m\u001b[38;5;34m3,972,352\u001b[0m (15.15 MB)\n"
            ],
            "text/html": [
              "<pre style=\"white-space:pre;overflow-x:auto;line-height:normal;font-family:Menlo,'DejaVu Sans Mono',consolas,'Courier New',monospace\"><span style=\"font-weight: bold\"> Non-trainable params: </span><span style=\"color: #00af00; text-decoration-color: #00af00\">3,972,352</span> (15.15 MB)\n",
              "</pre>\n"
            ]
          },
          "metadata": {}
        },
        {
          "output_type": "stream",
          "name": "stdout",
          "text": [
            "Epoch 1/5\n",
            "\u001b[1m1563/1563\u001b[0m \u001b[32m━━━━━━━━━━━━━━━━━━━━\u001b[0m\u001b[37m\u001b[0m \u001b[1m35s\u001b[0m 22ms/step - accuracy: 0.5367 - loss: 0.7642 - val_accuracy: 0.5566 - val_loss: 0.6965\n",
            "Epoch 2/5\n",
            "\u001b[1m1563/1563\u001b[0m \u001b[32m━━━━━━━━━━━━━━━━━━━━\u001b[0m\u001b[37m\u001b[0m \u001b[1m41s\u001b[0m 26ms/step - accuracy: 0.5638 - loss: 0.6868 - val_accuracy: 0.5719 - val_loss: 0.6767\n",
            "Epoch 3/5\n",
            "\u001b[1m1563/1563\u001b[0m \u001b[32m━━━━━━━━━━━━━━━━━━━━\u001b[0m\u001b[37m\u001b[0m \u001b[1m34s\u001b[0m 22ms/step - accuracy: 0.5685 - loss: 0.6834 - val_accuracy: 0.5659 - val_loss: 0.6782\n",
            "Epoch 4/5\n",
            "\u001b[1m1563/1563\u001b[0m \u001b[32m━━━━━━━━━━━━━━━━━━━━\u001b[0m\u001b[37m\u001b[0m \u001b[1m56s\u001b[0m 36ms/step - accuracy: 0.5736 - loss: 0.6779 - val_accuracy: 0.5401 - val_loss: 0.6887\n",
            "Epoch 5/5\n",
            "\u001b[1m1563/1563\u001b[0m \u001b[32m━━━━━━━━━━━━━━━━━━━━\u001b[0m\u001b[37m\u001b[0m \u001b[1m57s\u001b[0m 37ms/step - accuracy: 0.5759 - loss: 0.6767 - val_accuracy: 0.5582 - val_loss: 0.6869\n",
            "Epoch 1/5\n",
            "\u001b[1m1563/1563\u001b[0m \u001b[32m━━━━━━━━━━━━━━━━━━━━\u001b[0m\u001b[37m\u001b[0m \u001b[1m56s\u001b[0m 36ms/step - accuracy: 0.5757 - loss: 0.6780 - val_accuracy: 0.5938 - val_loss: 0.6678\n",
            "Epoch 2/5\n",
            "\u001b[1m1563/1563\u001b[0m \u001b[32m━━━━━━━━━━━━━━━━━━━━\u001b[0m\u001b[37m\u001b[0m \u001b[1m55s\u001b[0m 35ms/step - accuracy: 0.6388 - loss: 0.6383 - val_accuracy: 0.5864 - val_loss: 0.6798\n",
            "Epoch 3/5\n",
            "\u001b[1m1563/1563\u001b[0m \u001b[32m━━━━━━━━━━━━━━━━━━━━\u001b[0m\u001b[37m\u001b[0m \u001b[1m50s\u001b[0m 32ms/step - accuracy: 0.7280 - loss: 0.5452 - val_accuracy: 0.5647 - val_loss: 0.7584\n",
            "Epoch 4/5\n",
            "\u001b[1m1563/1563\u001b[0m \u001b[32m━━━━━━━━━━━━━━━━━━━━\u001b[0m\u001b[37m\u001b[0m \u001b[1m50s\u001b[0m 32ms/step - accuracy: 0.8331 - loss: 0.3757 - val_accuracy: 0.5506 - val_loss: 1.0873\n",
            "Epoch 5/5\n",
            "\u001b[1m1563/1563\u001b[0m \u001b[32m━━━━━━━━━━━━━━━━━━━━\u001b[0m\u001b[37m\u001b[0m \u001b[1m55s\u001b[0m 35ms/step - accuracy: 0.9074 - loss: 0.2235 - val_accuracy: 0.5413 - val_loss: 1.5216\n"
          ]
        },
        {
          "output_type": "execute_result",
          "data": {
            "text/plain": [
              "<keras.src.callbacks.history.History at 0x78991caf9d10>"
            ]
          },
          "metadata": {},
          "execution_count": 10
        }
      ],
      "source": [
        "# Load pretrained bert model\n",
        "mlm_model = keras.models.load_model(\n",
        "    \"bert_mlm_stackoverflow.keras\", custom_objects={\"MaskedLanguageModel\": MaskedLanguageModel}\n",
        ")\n",
        "pretrained_bert_model = keras.Model(\n",
        "    mlm_model.input, mlm_model.get_layer(\"encoder_0_ffn_layernormalization\").output\n",
        ")\n",
        "\n",
        "# Freeze it\n",
        "pretrained_bert_model.trainable = False\n",
        "\n",
        "\n",
        "def create_classifier_bert_model():\n",
        "    inputs = layers.Input((config.MAX_LEN,), dtype=\"int64\")\n",
        "    sequence_output = pretrained_bert_model(inputs)\n",
        "    pooled_output = layers.GlobalMaxPooling1D()(sequence_output)\n",
        "    hidden_layer = layers.Dense(64, activation=\"relu\")(pooled_output)\n",
        "    outputs = layers.Dense(1, activation=\"sigmoid\")(hidden_layer)\n",
        "    classifer_model = keras.Model(inputs, outputs, name=\"classification\")\n",
        "    optimizer = keras.optimizers.Adam()\n",
        "    classifer_model.compile(\n",
        "        optimizer=optimizer, loss=\"binary_crossentropy\", metrics=[\"accuracy\"]\n",
        "    )\n",
        "    return classifer_model\n",
        "\n",
        "\n",
        "classifer_model = create_classifier_bert_model()\n",
        "classifer_model.summary()\n",
        "\n",
        "# Train the classifier with frozen BERT stage\n",
        "classifer_model.fit(\n",
        "    train_classifier_ds,\n",
        "    epochs=5,\n",
        "    validation_data=test_classifier_ds,\n",
        ")\n",
        "\n",
        "# Unfreeze the BERT model for fine-tuning\n",
        "pretrained_bert_model.trainable = True\n",
        "optimizer = keras.optimizers.Adam()\n",
        "classifer_model.compile(\n",
        "    optimizer=optimizer, loss=\"binary_crossentropy\", metrics=[\"accuracy\"]\n",
        ")\n",
        "classifer_model.fit(\n",
        "    train_classifier_ds,\n",
        "    epochs=5,\n",
        "    validation_data=test_classifier_ds,\n",
        ")"
      ]
    },
    {
      "cell_type": "markdown",
      "metadata": {
        "id": "AA8Dgh-PIF1x"
      },
      "source": [
        "## Create an end-to-end model and evaluate it\n",
        "\n",
        "When you want to deploy a model, it's best if it already includes its preprocessing\n",
        "pipeline, so that you don't have to reimplement the preprocessing logic in your\n",
        "production environment. Let's create an end-to-end model that incorporates\n",
        "the `TextVectorization` layer inside evalaute method, and let's evaluate. We will pass raw strings as input."
      ]
    },
    {
      "cell_type": "code",
      "execution_count": null,
      "metadata": {
        "id": "gUeGbDLUIF1x",
        "outputId": "3ba441db-497a-4fdd-e29e-03f281c4fc5e",
        "colab": {
          "base_uri": "https://localhost:8080/"
        }
      },
      "outputs": [
        {
          "output_type": "stream",
          "name": "stdout",
          "text": [
            "\u001b[1m1563/1563\u001b[0m \u001b[32m━━━━━━━━━━━━━━━━━━━━\u001b[0m\u001b[37m\u001b[0m \u001b[1m16s\u001b[0m 10ms/step - accuracy: 0.5435 - loss: 1.5129\n"
          ]
        },
        {
          "output_type": "execute_result",
          "data": {
            "text/plain": [
              "[1.5215799808502197, 0.5413200259208679]"
            ]
          },
          "metadata": {},
          "execution_count": 11
        }
      ],
      "source": [
        "\n",
        "# We create a custom Model to override the evaluate method so\n",
        "# that it first pre-process text data\n",
        "class ModelEndtoEnd(keras.Model):\n",
        "\n",
        "    def evaluate(self, inputs):\n",
        "        features = encode(inputs.review.values)\n",
        "        labels = inputs.sentiment.values\n",
        "        test_classifier_ds = (\n",
        "            tf.data.Dataset.from_tensor_slices((features, labels))\n",
        "            .shuffle(1000)\n",
        "            .batch(config.BATCH_SIZE)\n",
        "        )\n",
        "        return super().evaluate(test_classifier_ds)\n",
        "\n",
        "    # Build the model\n",
        "    def build(self, input_shape):\n",
        "        self.built = True\n",
        "\n",
        "\n",
        "def get_end_to_end(model):\n",
        "    inputs = classifer_model.inputs[0]\n",
        "    outputs = classifer_model.outputs\n",
        "    end_to_end_model = ModelEndtoEnd(inputs, outputs, name=\"end_to_end_model\")\n",
        "    optimizer = keras.optimizers.Adam(learning_rate=config.LR)\n",
        "    end_to_end_model.compile(\n",
        "        optimizer=optimizer, loss=\"binary_crossentropy\", metrics=[\"accuracy\"]\n",
        "    )\n",
        "    return end_to_end_model\n",
        "\n",
        "\n",
        "end_to_end_classification_model = get_end_to_end(classifer_model)\n",
        "# Pass raw text dataframe to the model\n",
        "end_to_end_classification_model.evaluate(test_raw_classifier_ds)"
      ]
    },
    {
      "cell_type": "markdown",
      "source": [
        "## Building the Markov Chain for MLM\n",
        "\n",
        "### Description\n",
        "\n",
        "This cell defines the `build_markov_chain` function, which constructs a Markov Chain based on bigrams (default `n_gram=2`) for the Masked Language Modeling (MLM) task.\n",
        "\n",
        "### Input:\n",
        "- A list of texts (e.g., Stack Overflow questions).\n",
        "\n",
        "### Process:\n",
        "1. Applies `custom_standardization` (defined in the BERT code) to clean the text (e.g., remove HTML and punctuation).\n",
        "2. Splits the text into words and updates the vocabulary (`vocab`).\n",
        "3. For each sequence of words:\n",
        "   - Records the transition frequency from the current state (previous word) to the next state (following word).\n",
        "4. Normalizes the frequencies into transition probabilities.\n",
        "\n",
        "### Output:\n",
        "- A dictionary `markov_prob` containing transition probabilities.\n",
        "- A list `vocab` with the complete vocabulary.\n",
        "\n",
        "This function is the core of the Markov model, enabling masked word prediction based on local context."
      ],
      "metadata": {
        "id": "DXE1oUuTrs0p"
      }
    },
    {
      "cell_type": "code",
      "source": [
        "from sklearn.linear_model import LogisticRegression\n",
        "from sklearn.metrics import accuracy_score\n",
        "from collections import defaultdict\n",
        "\n",
        "# Construir Cadeia de Markov para MLM (bigramas)\n",
        "def build_markov_chain(texts, n_gram=2):\n",
        "    markov_chain = defaultdict(lambda: defaultdict(int))\n",
        "    vocab = set()\n",
        "    for text in texts:\n",
        "        cleaned_text = custom_standardization(tf.constant(text))\n",
        "        words = cleaned_text.split()\n",
        "        vocab.update(words)\n",
        "        if len(words) < n_gram:\n",
        "            continue\n",
        "        for i in range(len(words) - n_gram + 1):\n",
        "            current_state = \" \".join(words[i:i+n_gram-1])\n",
        "            next_state = words[i+n_gram-1]\n",
        "            markov_chain[current_state][next_state] += 1\n",
        "    # Normalizar para probabilidades\n",
        "    markov_prob = {}\n",
        "    for current_state, transitions in markov_chain.items():\n",
        "        total = sum(transitions.values())\n",
        "        markov_prob[current_state] = {word: count/total for word, count in transitions.items()}\n",
        "    return markov_prob, list(vocab)"
      ],
      "metadata": {
        "id": "dEUgvrfFBYgi"
      },
      "execution_count": null,
      "outputs": []
    },
    {
      "cell_type": "markdown",
      "source": [
        "## Masked Word Prediction with Markov\n",
        "\n",
        "### Description\n",
        "\n",
        "This cell implements and tests masked word prediction using the Markov Chain.\n",
        "\n",
        "### `predict_masked_word` Function:\n",
        "\n",
        "#### **Input:**\n",
        "- A text containing `[mask]`\n",
        "- The transition probability dictionary `markov_prob`\n",
        "- The position of `[mask]` in the text\n",
        "- The n-gram size (default: `2`)\n",
        "\n",
        "#### **Process:**\n",
        "1. Cleans the text.\n",
        "2. Identifies the current state (words before `[mask]`).\n",
        "3. Returns the most probable word and its probability based on `markov_prob`.\n",
        "\n",
        "#### **Output:**\n",
        "- A tuple containing the predicted word and its probability (e.g., `(\"error\", 0.35)`).\n",
        "\n",
        "### **Testing:**\n",
        "- Builds the Markov Chain using all available data (`all_data[\"review\"]`).\n",
        "- Tests with the example `\"SyntaxError unexpected [mask]\"`, simulating BERT's callback.\n",
        "- Displays the prediction for qualitative analysis.\n",
        "\n",
        "This cell replicates the MLM task of BERT in a simplified manner, allowing direct comparison with BERT’s predictions."
      ],
      "metadata": {
        "id": "aJAZsihpseoc"
      }
    },
    {
      "cell_type": "code",
      "source": [
        "# Função para prever palavra mascarada com Markov\n",
        "def predict_masked_word(text, markov_prob, mask_position, n_gram=2):\n",
        "    cleaned_text = custom_standardization(tf.constant(text))\n",
        "    words = cleaned_text.split()\n",
        "    if len(words) < n_gram or mask_position < n_gram-1 or mask_position >= len(words):\n",
        "        return \"unknown\", 0.0  # Default se não houver contexto suficiente\n",
        "    current_state = \" \".join(words[mask_position-n_gram+1:mask_position])\n",
        "    if current_state in markov_prob:\n",
        "        next_words = markov_prob[current_state]\n",
        "        if next_words:\n",
        "            predicted_word = max(next_words.items(), key=lambda x: x[1])[0]\n",
        "            probability = next_words[predicted_word]\n",
        "            return predicted_word, probability\n",
        "    return \"unknown\", 0.0\n",
        "\n",
        "# Testar MLM com Markov\n",
        "markov_prob, vocab = build_markov_chain(all_data[\"review\"].values)\n",
        "sample_text = \"SyntaxError unexpected [mask]\"\n",
        "words = custom_standardization(tf.constant(sample_text)).split()\n",
        "mask_position = words.index(\"[mask]\")\n",
        "predicted_word, prob = predict_masked_word(sample_text, markov_prob, mask_position)\n",
        "print(f\"Markov Prediction for '{sample_text}':\")\n",
        "print(f\"Predicted word: '{predicted_word}', Probability: {prob:.4f}\")"
      ],
      "metadata": {
        "id": "0YuWQKxCroAn"
      },
      "execution_count": null,
      "outputs": []
    },
    {
      "cell_type": "markdown",
      "source": [
        "## Feature Extraction for Classification\n",
        "\n",
        "### Description\n",
        "\n",
        "This cell prepares data for a binary classification task using features derived from the Markov Chain.\n",
        "\n",
        "### `extract_markov_features` Function:\n",
        "\n",
        "#### **Input:**\n",
        "- A list of texts\n",
        "- The transition probability dictionary `markov_prob`\n",
        "\n",
        "#### **Process:**\n",
        "1. Computes the average transition probabilities of bigrams in each text.\n",
        "2. Generates a single numerical feature per text.\n",
        "\n",
        "#### **Output:**\n",
        "- A NumPy array with shape `(n_samples, 1)`, ready for use in a classifier.\n",
        "\n",
        "### **Preparation:**\n",
        "- Generates features for the training set (`X_train_markov`) and test set (`X_test_markov`).\n",
        "- Defines labels `y_train` and `y_test` based on sentiment (`Score >= 1` or `< 1`).\n",
        "- Keeps `test_raw_classifier_ds` as the test DataFrame for compatibility with BERT.\n",
        "\n",
        "This approach transforms Markov probabilities into a simple representation for classification, contrasting with BERT’s rich embeddings."
      ],
      "metadata": {
        "id": "bj9YzRHJsk1K"
      }
    },
    {
      "cell_type": "code",
      "source": [
        "\n",
        "# Extrair features para classificação (média das probabilidades de transição)\n",
        "def extract_markov_features(texts, markov_prob, n_gram=2):\n",
        "    features = []\n",
        "    for text in texts:\n",
        "        cleaned_text = custom_standardization(tf.constant(text))\n",
        "        words = cleaned_text.split()\n",
        "        if len(words) < n_gram:\n",
        "            features.append(0.0)\n",
        "            continue\n",
        "        prob_sum = 0\n",
        "        count = 0\n",
        "        for i in range(len(words) - n_gram + 1):\n",
        "            current_state = \" \".join(words[i:i+n_gram-1])\n",
        "            next_word = words[i+n_gram-1]\n",
        "            if current_state in markov_prob and next_word in markov_prob[current_state]:\n",
        "                prob_sum += markov_prob[current_state][next_word]\n",
        "                count += 1\n",
        "        features.append(prob_sum / count if count > 0 else 0.0)\n",
        "    return np.array(features).reshape(-1, 1)\n",
        "\n",
        "# Preparar dados para classificação\n",
        "X_train_markov = extract_markov_features(train_df[\"review\"].values, markov_prob)\n",
        "X_test_markov = extract_markov_features(test_df[\"review\"].values, markov_prob)\n",
        "y_train = train_df[\"sentiment\"].values\n",
        "y_test = test_df[\"sentiment\"].values\n",
        "\n",
        "test_raw_classifier_ds = test_df"
      ],
      "metadata": {
        "id": "UFSc6CNYroez"
      },
      "execution_count": null,
      "outputs": []
    },
    {
      "cell_type": "markdown",
      "source": [
        "## Training and Evaluation of the Markov Classifier\n",
        "\n",
        "### Description\n",
        "\n",
        "This cell trains and evaluates a classifier based on features extracted from the Markov model.\n",
        "\n",
        "### **Training:**\n",
        "- Uses `LogisticRegression` with the extracted features (`X_train_markov`) and labels (`y_train`).\n",
        "\n",
        "### **Evaluation:**\n",
        "- Computes predictions for the test set (`X_test_markov`).\n",
        "- Measures accuracy using `accuracy_score`.\n",
        "\n",
        "### **Output:**\n",
        "- Prints the accuracy of the Markov model, enabling a quantitative comparison with BERT.\n",
        "\n",
        "Logistic regression is a simple yet effective choice for classification using a single feature, reflecting the minimalistic approach of the Markov model."
      ],
      "metadata": {
        "id": "iM8dU5LLtHs0"
      }
    },
    {
      "cell_type": "code",
      "source": [
        "# Treinar classificador com Markov\n",
        "markov_classifier = LogisticRegression(max_iter=1000)\n",
        "markov_classifier.fit(X_train_markov, y_train)\n",
        "\n",
        "# Avaliar Markov\n",
        "y_pred_markov = markov_classifier.predict(X_test_markov)\n",
        "markov_accuracy = accuracy_score(y_test, y_pred_markov)\n",
        "print(f\"\\nAcurácia do modelo Markov (classificação): {markov_accuracy:.4f}\")\n",
        "\n",
        "# Comparar com BERT (assumindo que você já rodou o código BERT)\n",
        "bert_accuracy = end_to_end_classification_model.evaluate(test_raw_classifier_ds)[1]  # Pegar acurácia\n",
        "print(f\"Acurácia do modelo BERT (classificação): {bert_accuracy:.4f}\")\n",
        "\n",
        "# Comparação\n",
        "print(\"\\nComparação dos Resultados (Classificação Binária):\")\n",
        "print(f\"Modelo Markov - Acurácia: {markov_accuracy:.4f}\")\n",
        "print(f\"Modelo BERT - Acurácia: {bert_accuracy:.4f}\")\n",
        "print(f\"Diferença (BERT - Markov): {bert_accuracy - markov_accuracy:.4f}\")\n",
        "\n",
        "# Comparação no MLM (qualitativa)\n",
        "print(\"\\nComparação no MLM (exemplo qualitativo):\")\n",
        "print(f\"BERT Prediction (Epoch 5): 'error' com probabilidade 0.4701\")\n",
        "print(f\"Markov Prediction: '{predicted_word}' com probabilidade {prob:.4f}\")"
      ],
      "metadata": {
        "id": "_A32jZLHro4N"
      },
      "execution_count": null,
      "outputs": []
    }
  ],
  "metadata": {
    "accelerator": "GPU",
    "colab": {
      "name": "masked_language_modeling",
      "provenance": [],
      "include_colab_link": true
    },
    "kernelspec": {
      "display_name": "Python 3",
      "language": "python",
      "name": "python3"
    },
    "language_info": {
      "codemirror_mode": {
        "name": "ipython",
        "version": 3
      },
      "file_extension": ".py",
      "mimetype": "text/x-python",
      "name": "python",
      "nbconvert_exporter": "python",
      "pygments_lexer": "ipython3",
      "version": "3.7.0"
    }
  },
  "nbformat": 4,
  "nbformat_minor": 0
}